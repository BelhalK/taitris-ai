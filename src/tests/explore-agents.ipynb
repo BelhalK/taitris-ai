{
 "cells": [
  {
   "cell_type": "code",
   "execution_count": 1,
   "id": "9c319349",
   "metadata": {},
   "outputs": [
    {
     "name": "stdout",
     "output_type": "stream",
     "text": [
      "Current Working Directory: /Users/belhalkarimi/Desktop/Belhal/Tech/taitris/taitris-ai/src/tests\n",
      "Script Path: /Users/belhalkarimi/Desktop/Belhal/Tech/taitris/taitris-ai/src/tests\n",
      "Parent Directory being added to sys.path: /Users/belhalkarimi/Desktop/Belhal/Tech/taitris/taitris-ai/src\n"
     ]
    }
   ],
   "source": [
    "import sys, os\n",
    "print(\"Current Working Directory:\", os.getcwd())\n",
    "\n",
    "script_path = os.path.abspath(__file__) if '__file__' in locals() else os.getcwd()\n",
    "print(\"Script Path:\", script_path)\n",
    "\n",
    "parent_dir = os.path.abspath(os.path.join(script_path, '..'))\n",
    "print(\"Parent Directory being added to sys.path:\", parent_dir)\n",
    "\n",
    "sys.path.append(parent_dir)"
   ]
  },
  {
   "cell_type": "code",
   "execution_count": 3,
   "id": "dbbb6000",
   "metadata": {},
   "outputs": [],
   "source": [
    "import asyncio\n",
    "import fire\n",
    "\n",
    "from taitriscore.memory.memory import Memory\n",
    "from taitriscore.logs import logger\n",
    "from taitriscore.roles import Planner\n",
    "from taitriscore.config import CONFIG\n",
    "\n",
    "import pdb"
   ]
  },
  {
   "cell_type": "code",
   "execution_count": 4,
   "id": "25fb5078",
   "metadata": {},
   "outputs": [],
   "source": [
    "OBJECTIVE = \"\"\"You are hired to lead an influencers marketing campaign for Taitris, a company selling innovative candles smelling like wood.\n",
    "    You have access to instagram.\n",
    "    Find the right influencers, reach out and try to do product seeding to bring some new clients to Taitris.\"\"\""
   ]
  },
  {
   "cell_type": "code",
   "execution_count": 5,
   "id": "516fd276",
   "metadata": {},
   "outputs": [],
   "source": [
    "role = Planner(profile=\"Planner\", objective = OBJECTIVE)"
   ]
  },
  {
   "cell_type": "code",
   "execution_count": 6,
   "id": "cbb137cb",
   "metadata": {},
   "outputs": [],
   "source": [
    "tasks = [\"Develop a task list for your Objective.\"]\n",
    "completed_tasks = []\n",
    "\n",
    "max_rounds = 5"
   ]
  },
  {
   "cell_type": "code",
   "execution_count": 7,
   "id": "65bd1cf5",
   "metadata": {},
   "outputs": [
    {
     "name": "stderr",
     "output_type": "stream",
     "text": [
      "Round - 1\n",
      "- Develop a task list for your Objective.\n"
     ]
    }
   ],
   "source": [
    "r = 1\n",
    "logger.info(f\"Round - {r}\")\n",
    "for t in tasks:\n",
    "    logger.info(f\"- {t}\")"
   ]
  },
  {
   "cell_type": "code",
   "execution_count": 8,
   "id": "7ea8c6b3",
   "metadata": {},
   "outputs": [
    {
     "name": "stdout",
     "output_type": "stream",
     "text": [
      "Develop a task list for your Objective.\n"
     ]
    }
   ],
   "source": [
    "# Step 1: Pull the first incomplete task\n",
    "task = tasks.pop(0)\n",
    "print(task)"
   ]
  },
  {
   "cell_type": "code",
   "execution_count": 47,
   "id": "84edb58b",
   "metadata": {},
   "outputs": [
    {
     "name": "stdout",
     "output_type": "stream",
     "text": [
      "{'task': 'Develop a task list for your Objective.'}\n",
      "[]\n"
     ]
    }
   ],
   "source": [
    "# Agent complete the task based on the context\n",
    "todo = {}\n",
    "todo[\"task\"] = task\n",
    "print(todo)\n",
    "print(completed_tasks)"
   ]
  },
  {
   "cell_type": "code",
   "execution_count": 48,
   "id": "f30402c2",
   "metadata": {},
   "outputs": [],
   "source": [
    "# tmp_todo = role.task_execution_agent(\n",
    "#     OBJECTIVE, todo, completed_tasks[-5:]\n",
    "# )\n",
    "\n",
    "completed_task_bullets = \"\\n\".join(\n",
    "    [f\"  - {todo['task']}: {todo['result']}\" for todo in completed_tasks[-5:]]\n",
    ")\n"
   ]
  },
  {
   "cell_type": "code",
   "execution_count": 50,
   "id": "fd3873e1",
   "metadata": {},
   "outputs": [
    {
     "data": {
      "text/plain": [
       "'\\nPerform one task based on the following objective: You are hired to lead an influencers marketing campaign for Taitris, a company selling innovative candles smelling like wood.\\n    You have access to instagram.\\n    Find the right influencers, reach out and try to do product seeding to bring some new clients to Taitris..\\n\\nTake into account these previously completed tasks:\\n\\n\\nYour task: Develop a task list for your Objective.\\nResponse:\\n'"
      ]
     },
     "execution_count": 50,
     "metadata": {},
     "output_type": "execute_result"
    }
   ],
   "source": [
    "ExecutionOutputTemplate = f\"\"\"\n",
    "Perform one task based on the following objective: {OBJECTIVE}.\n",
    "\n",
    "Take into account these previously completed tasks:\n",
    "{completed_task_bullets}\n",
    "\n",
    "Your task: {todo['task']}\n",
    "Response:\n",
    "\"\"\"\n",
    "\n",
    "tmp_todo = ExecutionOutputTemplate\n",
    "tmp_todo\n"
   ]
  },
  {
   "cell_type": "code",
   "execution_count": 51,
   "id": "b4303e18",
   "metadata": {},
   "outputs": [
    {
     "data": {
      "text/plain": [
       "[{'role': 'system', 'content': 'You are a helpful assistant.'},\n",
       " {'role': 'user',\n",
       "  'content': '\\nPerform one task based on the following objective: You are hired to lead an influencers marketing campaign for Taitris, a company selling innovative candles smelling like wood.\\n    You have access to instagram.\\n    Find the right influencers, reach out and try to do product seeding to bring some new clients to Taitris..\\n\\nTake into account these previously completed tasks:\\n\\n\\nYour task: Develop a task list for your Objective.\\nResponse:\\n'}]"
      ]
     },
     "execution_count": 51,
     "metadata": {},
     "output_type": "execute_result"
    }
   ],
   "source": [
    "messages = [role._llm._default_system_msg(), role._llm._user_msg(tmp_todo)]\n",
    "messages"
   ]
  },
  {
   "cell_type": "code",
   "execution_count": 52,
   "id": "ed5df291",
   "metadata": {},
   "outputs": [
    {
     "data": {
      "text/plain": [
       "{'model': 'gpt-3.5-turbo',\n",
       " 'messages': [{'role': 'system', 'content': 'You are a helpful assistant.'},\n",
       "  {'role': 'user',\n",
       "   'content': '\\nPerform one task based on the following objective: You are hired to lead an influencers marketing campaign for Taitris, a company selling innovative candles smelling like wood.\\n    You have access to instagram.\\n    Find the right influencers, reach out and try to do product seeding to bring some new clients to Taitris..\\n\\nTake into account these previously completed tasks:\\n\\n\\nYour task: Develop a task list for your Objective.\\nResponse:\\n'}],\n",
       " 'max_tokens': 500,\n",
       " 'n': 1,\n",
       " 'stop': None,\n",
       " 'temperature': 0.3}"
      ]
     },
     "execution_count": 52,
     "metadata": {},
     "output_type": "execute_result"
    }
   ],
   "source": [
    "role._llm._cons_kwargs(messages)"
   ]
  },
  {
   "cell_type": "code",
   "execution_count": 64,
   "id": "947e1477",
   "metadata": {},
   "outputs": [],
   "source": [
    "tmp_input = role._llm._cons_kwargs(messages)"
   ]
  },
  {
   "cell_type": "code",
   "execution_count": 65,
   "id": "009ae05b",
   "metadata": {},
   "outputs": [],
   "source": [
    "# todo[\"result\"] = role._llm.aask(tmp_todo)\n",
    "res = role._llm.llm.ChatCompletion.create(**tmp_input)"
   ]
  },
  {
   "cell_type": "code",
   "execution_count": 67,
   "id": "fdb04e99",
   "metadata": {},
   "outputs": [
    {
     "data": {
      "text/plain": [
       "\"Task List for Leading Influencer Marketing Campaign for Taitris:\\n\\n1. Research Influencers: Identify relevant influencers in the home decor, lifestyle, and wellness niches on Instagram who have a strong following and engagement rates.\\n\\n2. Evaluate Influencers: Assess each influencer's audience demographics, engagement levels, authenticity, and alignment with Taitris' brand values and target market.\\n\\n3. Reach Out to Influencers: Craft personalized outreach messages to introduce Taitris' innovative wood-scented candles and propose a collaboration for product seeding.\\n\\n4. Negotiate Partnerships: Discuss terms of collaboration with interested influencers, including the number of posts, stories, or other content, as well as compensation or exchange for product seeding.\\n\\n5. Send Product Samples: Coordinate the delivery of Taitris' candles to selected influencers, ensuring timely and safe shipping to maintain product quality.\\n\\n6. Monitor Influencer Content: Track influencers' posts featuring Taitris' candles, engage with their audience's comments, and share user-generated content on Taitris' social media channels.\\n\\n7. Measure Campaign Performance: Analyze the impact of the influencer marketing campaign on Taitris' brand awareness, website traffic, and sales, using metrics like reach, engagement, and conversions.\\n\\n8. Follow-Up with Influencers: Express gratitude to influencers for their collaboration, request feedback on the campaign's effectiveness, and explore opportunities for future partnerships.\""
      ]
     },
     "execution_count": 67,
     "metadata": {},
     "output_type": "execute_result"
    }
   ],
   "source": [
    "res['choices'][0].message.content"
   ]
  },
  {
   "cell_type": "code",
   "execution_count": 70,
   "id": "b4b10ba4",
   "metadata": {},
   "outputs": [],
   "source": [
    "todo[\"result\"] = res\n",
    "todo[\"result\"] = todo[\"result\"]['choices'][0].message.content"
   ]
  },
  {
   "cell_type": "code",
   "execution_count": 71,
   "id": "636e670b",
   "metadata": {},
   "outputs": [
    {
     "data": {
      "text/plain": [
       "{'task': 'Develop a task list for your Objective.',\n",
       " 'result': \"Task List for Leading Influencer Marketing Campaign for Taitris:\\n\\n1. Research Influencers: Identify relevant influencers in the home decor, lifestyle, and wellness niches on Instagram who have a strong following and engagement rates.\\n\\n2. Evaluate Influencers: Assess each influencer's audience demographics, engagement levels, authenticity, and alignment with Taitris' brand values and target market.\\n\\n3. Reach Out to Influencers: Craft personalized outreach messages to introduce Taitris' innovative wood-scented candles and propose a collaboration for product seeding.\\n\\n4. Negotiate Partnerships: Discuss terms of collaboration with interested influencers, including the number of posts, stories, or other content, as well as compensation or exchange for product seeding.\\n\\n5. Send Product Samples: Coordinate the delivery of Taitris' candles to selected influencers, ensuring timely and safe shipping to maintain product quality.\\n\\n6. Monitor Influencer Content: Track influencers' posts featuring Taitris' candles, engage with their audience's comments, and share user-generated content on Taitris' social media channels.\\n\\n7. Measure Campaign Performance: Analyze the impact of the influencer marketing campaign on Taitris' brand awareness, website traffic, and sales, using metrics like reach, engagement, and conversions.\\n\\n8. Follow-Up with Influencers: Express gratitude to influencers for their collaboration, request feedback on the campaign's effectiveness, and explore opportunities for future partnerships.\"}"
      ]
     },
     "execution_count": 71,
     "metadata": {},
     "output_type": "execute_result"
    }
   ],
   "source": [
    "todo"
   ]
  },
  {
   "cell_type": "code",
   "execution_count": 72,
   "id": "d83499df",
   "metadata": {},
   "outputs": [
    {
     "data": {
      "text/plain": [
       "[{'task': 'Develop a task list for your Objective.',\n",
       "  'result': \"Task List for Leading Influencer Marketing Campaign for Taitris:\\n\\n1. Research Influencers: Identify relevant influencers in the home decor, lifestyle, and wellness niches on Instagram who have a strong following and engagement rates.\\n\\n2. Evaluate Influencers: Assess each influencer's audience demographics, engagement levels, authenticity, and alignment with Taitris' brand values and target market.\\n\\n3. Reach Out to Influencers: Craft personalized outreach messages to introduce Taitris' innovative wood-scented candles and propose a collaboration for product seeding.\\n\\n4. Negotiate Partnerships: Discuss terms of collaboration with interested influencers, including the number of posts, stories, or other content, as well as compensation or exchange for product seeding.\\n\\n5. Send Product Samples: Coordinate the delivery of Taitris' candles to selected influencers, ensuring timely and safe shipping to maintain product quality.\\n\\n6. Monitor Influencer Content: Track influencers' posts featuring Taitris' candles, engage with their audience's comments, and share user-generated content on Taitris' social media channels.\\n\\n7. Measure Campaign Performance: Analyze the impact of the influencer marketing campaign on Taitris' brand awareness, website traffic, and sales, using metrics like reach, engagement, and conversions.\\n\\n8. Follow-Up with Influencers: Express gratitude to influencers for their collaboration, request feedback on the campaign's effectiveness, and explore opportunities for future partnerships.\"}]"
      ]
     },
     "execution_count": 72,
     "metadata": {},
     "output_type": "execute_result"
    }
   ],
   "source": [
    "# Step 2: Store the result in completed task\n",
    "completed_tasks.append(todo)\n",
    "completed_tasks"
   ]
  },
  {
   "cell_type": "code",
   "execution_count": 73,
   "metadata": {},
   "outputs": [],
   "source": [
    "# # Step 3: Create new tasks re-prioritize task list\n",
    "# newtodo = await self.task_creation_agent(\n",
    "#     objective, todo[\"task\"], todo[\"result\"], tasks\n",
    "# )\n",
    "\n",
    "newtodo = f\"\"\"\n",
    "        You are to use the result from an execution agent to create new tasks with the following objective: {OBJECTIVE}.\n",
    "        The last completed task has the result:\n",
    "        {todo[\"result\"]}\n",
    "        This result was based on this task description: {todo[\"task\"]}.\n",
    "\n",
    "        These are {len(tasks)} incomplete tasks: {', '.join(tasks)}\n",
    "\n",
    "        Based on the result, return a list of tasks to be completed in order to meet the objective.\n",
    "        These new tasks must not overlap with incomplete tasks.\n",
    "        \"\"\""
   ]
  },
  {
   "cell_type": "code",
   "execution_count": 74,
   "id": "08a3411a",
   "metadata": {},
   "outputs": [],
   "source": [
    "# new_task = await self._llm.aask(newtodo)\n",
    "messages = [role._llm._default_system_msg(), role._llm._user_msg(newtodo)]\n",
    "tmp_input = role._llm._cons_kwargs(messages)\n",
    "res = role._llm.llm.ChatCompletion.create(**tmp_input)"
   ]
  },
  {
   "cell_type": "code",
   "execution_count": 76,
   "id": "0ae21b31",
   "metadata": {},
   "outputs": [
    {
     "data": {
      "text/plain": [
       "[\"Task List for Leading Influencer Marketing Campaign for Taitris:\\n\\n1. Analyze Influencer Posts: Review the content and engagement of influencers' previous posts to ensure they align with Taitris' brand image and target audience.\\n\\n2. Create Product Seeding Strategy: Develop a detailed plan for how Taitris' wood-scented candles will be showcased by influencers, including key messaging points and unique selling propositions.\\n\\n3. Develop Tracking System: Set up a system to monitor the performance of each influencer collaboration, tracking metrics such as reach, engagement, and conversion rates.\\n\\n4. Engage with Influencers' Audience: Interact with the followers of influencers who feature Taitris' candles, responding to comments, questions, and feedback to build brand credibility.\\n\\n5. Optimize Influencer Partnerships: Continuously evaluate the effectiveness of influencer collaborations and adjust strategies as needed to maximize results for Taitris.\\n\\n6. Collaborate on Giveaways: Coordinate with influencers to host giveaways featuring Taitris' candles, increasing brand visibility and attracting new potential customers.\\n\\n7. Leverage User-Generated Content: Encourage influencers and their followers to create and share content featuring Taitris' candles, amplifying brand reach and authenticity.\\n\\n8. Monitor Competitor Influencer Campaigns: Keep track of influencer marketing efforts by competitors in the home decor and lifestyle industries to identify trends and opportunities for differentiation.\\n\\nThese tasks build upon the completed ones and provide a comprehensive plan to successfully execute the influencer marketing campaign for Taitris.\"]"
      ]
     },
     "execution_count": 76,
     "metadata": {},
     "output_type": "execute_result"
    }
   ],
   "source": [
    "new_tasks = [new_task['choices'][0].message.content]\n",
    "new_tasks"
   ]
  },
  {
   "cell_type": "code",
   "execution_count": 77,
   "id": "ebcd1c33",
   "metadata": {},
   "outputs": [
    {
     "name": "stderr",
     "output_type": "stream",
     "text": [
      "Adding new tasks to task_storage\n",
      "- Task List for Leading Influencer Marketing Campaign for Taitris:\n",
      "\n",
      "1. Analyze Influencer Posts: Review the content and engagement of influencers' previous posts to ensure they align with Taitris' brand image and target audience.\n",
      "\n",
      "2. Create Product Seeding Strategy: Develop a detailed plan for how Taitris' wood-scented candles will be showcased by influencers, including key messaging points and unique selling propositions.\n",
      "\n",
      "3. Develop Tracking System: Set up a system to monitor the performance of each influencer collaboration, tracking metrics such as reach, engagement, and conversion rates.\n",
      "\n",
      "4. Engage with Influencers' Audience: Interact with the followers of influencers who feature Taitris' candles, responding to comments, questions, and feedback to build brand credibility.\n",
      "\n",
      "5. Optimize Influencer Partnerships: Continuously evaluate the effectiveness of influencer collaborations and adjust strategies as needed to maximize results for Taitris.\n",
      "\n",
      "6. Collaborate on Giveaways: Coordinate with influencers to host giveaways featuring Taitris' candles, increasing brand visibility and attracting new potential customers.\n",
      "\n",
      "7. Leverage User-Generated Content: Encourage influencers and their followers to create and share content featuring Taitris' candles, amplifying brand reach and authenticity.\n",
      "\n",
      "8. Monitor Competitor Influencer Campaigns: Keep track of influencer marketing efforts by competitors in the home decor and lifestyle industries to identify trends and opportunities for differentiation.\n",
      "\n",
      "These tasks build upon the completed ones and provide a comprehensive plan to successfully execute the influencer marketing campaign for Taitris.\n"
     ]
    }
   ],
   "source": [
    "logger.info(\"Adding new tasks to task_storage\")\n",
    "for t in new_tasks:\n",
    "    logger.info(f\"- {t}\")"
   ]
  },
  {
   "cell_type": "code",
   "execution_count": 79,
   "id": "9e52c1e2",
   "metadata": {},
   "outputs": [],
   "source": [
    "# Re-prioritize tasks\n",
    "# finaltodo = await self.task_prioritization_agent(\n",
    "#     objective, new_tasks + tasks\n",
    "# )\n",
    "task_bullets = \"\\n\".join([f\"  - {task}\" for task in new_tasks + tasks])\n",
    "finaltodo = f\"\"\"\n",
    "You are tasked with prioritizing the following tasks:\n",
    "{task_bullets}\n",
    "\n",
    "Consider the ultimate objective of your team: {OBJECTIVE}.\n",
    "\"\"\""
   ]
  },
  {
   "cell_type": "code",
   "execution_count": 80,
   "id": "b06d20f2",
   "metadata": {},
   "outputs": [],
   "source": [
    "# tasks = await self._llm.aask(finaltodo)\n",
    "messages = [role._llm._default_system_msg(), role._llm._user_msg(finaltodo)]\n",
    "tmp_input = role._llm._cons_kwargs(messages)\n",
    "tasks = role._llm.llm.ChatCompletion.create(**tmp_input)\n",
    "tasks = tasks['choices'][0].message.content"
   ]
  },
  {
   "cell_type": "code",
   "execution_count": 81,
   "id": "680f4a9a",
   "metadata": {},
   "outputs": [
    {
     "name": "stderr",
     "output_type": "stream",
     "text": [
      "Based on the ultimate objective of leading an influencer marketing campaign for Taitris, the tasks can be prioritized as follows:\n",
      "\n",
      "1. **Analyzing Influencer Posts**: This task is crucial as it sets the foundation for selecting the right influencers whose content aligns with Taitris' brand image and target audience.\n",
      "\n",
      "2. **Monitoring Competitor Influencer Campaigns**: Understanding what competitors are doing in the influencer marketing space can provide valuable insights and help in identifying opportunities for differentiation.\n",
      "\n",
      "3. **Creating Product Seeding Strategy**: Developing a detailed plan for how Taitris' wood-scented candles will be showcased by influencers is essential for effectively showcasing the product to the target audience.\n",
      "\n",
      "4. **Developing Tracking System**: Setting up a system to monitor the performance of influencer collaborations is important for measuring the success of the campaign and optimizing strategies.\n",
      "\n",
      "5. **Engaging with Influencers' Audience**: Interacting with the followers of influencers featuring Taitris' candles helps in building brand credibility and engaging with potential customers.\n",
      "\n",
      "6. **Optimizing Influencer Partnerships**: Continuously evaluating the effectiveness of influencer collaborations and adjusting strategies as needed is important for maximizing results.\n",
      "\n",
      "7. **Collaborating on Giveaways**: Hosting giveaways featuring Taitris' candles can increase brand visibility and attract new potential customers.\n",
      "\n",
      "8. **Leveraging User-Generated Content**: Encouraging influencers and their followers to create and share content featuring Taitris' candles can amplify brand reach and authenticity.\n",
      "\n",
      "By following this prioritization, you can effectively lead the influencer marketing campaign for Taitris and drive success in reaching new clients through product seeding with the right influencers on Instagram.\n"
     ]
    }
   ],
   "source": [
    "logger.info(tasks)"
   ]
  },
  {
   "cell_type": "code",
   "execution_count": 82,
   "id": "64f49e47",
   "metadata": {},
   "outputs": [],
   "source": [
    "# return tasks\n",
    "tasks = [tasks]"
   ]
  },
  {
   "cell_type": "code",
   "execution_count": null,
   "id": "63613ddf",
   "metadata": {},
   "outputs": [],
   "source": []
  },
  {
   "cell_type": "code",
   "execution_count": null,
   "id": "8b956e34",
   "metadata": {},
   "outputs": [],
   "source": []
  },
  {
   "cell_type": "markdown",
   "id": "0ab07c0b",
   "metadata": {},
   "source": []
  }
 ],
 "metadata": {
  "kernelspec": {
   "display_name": "belenv",
   "language": "python",
   "name": "python3"
  },
  "language_info": {
   "codemirror_mode": {
    "name": "ipython",
    "version": 3
   },
   "file_extension": ".py",
   "mimetype": "text/x-python",
   "name": "python",
   "nbconvert_exporter": "python",
   "pygments_lexer": "ipython3",
   "version": "3.9.6"
  }
 },
 "nbformat": 4,
 "nbformat_minor": 5
}
