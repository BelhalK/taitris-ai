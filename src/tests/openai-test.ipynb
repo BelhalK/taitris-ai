{
 "cells": [
  {
   "cell_type": "code",
   "execution_count": 11,
   "id": "9c319349",
   "metadata": {},
   "outputs": [
    {
     "name": "stdout",
     "output_type": "stream",
     "text": [
      "Current Working Directory: /Users/belhalkarimi/Desktop/Belhal/Tech/taitris/taitris-ai/src/tests\n",
      "Script Path: /Users/belhalkarimi/Desktop/Belhal/Tech/taitris/taitris-ai/src/tests\n",
      "Parent Directory being added to sys.path: /Users/belhalkarimi/Desktop/Belhal/Tech/taitris/taitris-ai/src\n"
     ]
    }
   ],
   "source": [
    "import sys, os\n",
    "print(\"Current Working Directory:\", os.getcwd())\n",
    "\n",
    "script_path = os.path.abspath(__file__) if '__file__' in locals() else os.getcwd()\n",
    "print(\"Script Path:\", script_path)\n",
    "\n",
    "parent_dir = os.path.abspath(os.path.join(script_path, '..'))\n",
    "print(\"Parent Directory being added to sys.path:\", parent_dir)\n",
    "\n",
    "sys.path.append(parent_dir)"
   ]
  },
  {
   "cell_type": "code",
   "execution_count": 12,
   "id": "dbbb6000",
   "metadata": {},
   "outputs": [],
   "source": [
    "import asyncio\n",
    "import fire\n",
    "\n",
    "from taitriscore.memory.memory import Memory\n",
    "from taitriscore.logs import logger\n",
    "from taitriscore.roles import Planner\n",
    "from taitriscore.config import CONFIG\n",
    "\n",
    "import pdb"
   ]
  },
  {
   "cell_type": "code",
   "execution_count": null,
   "id": "25fb5078",
   "metadata": {},
   "outputs": [],
   "source": []
  },
  {
   "cell_type": "markdown",
   "id": "29194f85",
   "metadata": {},
   "source": [
    "### Test on calling openai API"
   ]
  },
  {
   "cell_type": "code",
   "execution_count": 13,
   "id": "5ef0f52b",
   "metadata": {},
   "outputs": [],
   "source": [
    "import openai\n",
    "openai.api_key = CONFIG.openai_api_key"
   ]
  },
  {
   "cell_type": "code",
   "execution_count": 22,
   "id": "2b4237bd",
   "metadata": {},
   "outputs": [],
   "source": [
    "model=\"gpt-3.5-turbo\"\n",
    "temp = 0.3\n",
    "max_tokens = 100\n",
    "\n",
    "def _cons_kwargs(messages):\n",
    "    kwargs = {\n",
    "        \"model\": model,\n",
    "        \"messages\": messages,\n",
    "        \"max_tokens\": max_tokens,\n",
    "        \"n\": 1,\n",
    "        \"stop\": None,\n",
    "        \"temperature\": temp,\n",
    "    }\n",
    "    return kwargs"
   ]
  },
  {
   "cell_type": "code",
   "execution_count": 23,
   "id": "3a1c51ac",
   "metadata": {},
   "outputs": [],
   "source": [
    "llm = openai"
   ]
  },
  {
   "cell_type": "code",
   "execution_count": 24,
   "id": "fd5ffac2",
   "metadata": {},
   "outputs": [],
   "source": [
    "system_prompt = \"You are a helpful assistant.\"\n",
    "def _user_msg(msg):\n",
    "    return {\"role\": \"user\", \"content\": msg}\n",
    "\n",
    "def _assistant_msg(msg):\n",
    "    return {\"role\": \"assistant\", \"content\": msg}\n",
    "\n",
    "def _system_msg(msg):\n",
    "    return {\"role\": \"system\", \"content\": msg}\n",
    "\n",
    "def _system_msgs(msgs):\n",
    "    return [_system_msg(msg) for msg in msgs]\n",
    "\n",
    "def _default_system_msg():\n",
    "    return _system_msg(system_prompt)"
   ]
  },
  {
   "cell_type": "code",
   "execution_count": 25,
   "id": "e789df6f",
   "metadata": {},
   "outputs": [
    {
     "name": "stdout",
     "output_type": "stream",
     "text": [
      "To begin the influencer marketing campaign for Taitris, the company selling innovative wood-scented candles, we will first need to identify suitable influencers who align with the brand's values and target audience. Here is a step-by-step guide on how to proceed with the campaign:\n",
      "\n",
      "1. **Identify Relevant Influencers**: Search for influencers on Instagram who have a strong following and engagement rate, and whose content resonates with themes like home decor, lifestyle, wellness, or eco-friendly products. Look\n"
     ]
    }
   ],
   "source": [
    "prompt = \"\"\"You are hired to lead an influencers marketing campaign for Taitris, a company selling innovative candles smelling like wood.\n",
    "    You have access to instagram.\n",
    "    Find the right influencers, reach out and try to do product seeding to bring some new clients to Taitris.\"\"\"\n",
    "\n",
    "messages = [_default_system_msg(), _user_msg(prompt)]\n",
    "res = llm.ChatCompletion.create(**_cons_kwargs(messages))\n",
    "\n",
    "# Print the response\n",
    "print(res['choices'][0]['message']['content'])"
   ]
  },
  {
   "cell_type": "code",
   "execution_count": null,
   "id": "516fd276",
   "metadata": {},
   "outputs": [],
   "source": []
  },
  {
   "cell_type": "code",
   "execution_count": null,
   "id": "8b956e34",
   "metadata": {},
   "outputs": [],
   "source": []
  },
  {
   "cell_type": "markdown",
   "id": "0ab07c0b",
   "metadata": {},
   "source": []
  }
 ],
 "metadata": {
  "kernelspec": {
   "display_name": "belenv",
   "language": "python",
   "name": "python3"
  },
  "language_info": {
   "codemirror_mode": {
    "name": "ipython",
    "version": 3
   },
   "file_extension": ".py",
   "mimetype": "text/x-python",
   "name": "python",
   "nbconvert_exporter": "python",
   "pygments_lexer": "ipython3",
   "version": "3.9.6"
  }
 },
 "nbformat": 4,
 "nbformat_minor": 5
}
